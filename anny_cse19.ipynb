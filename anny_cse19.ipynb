{
 "cells": [
  {
   "cell_type": "markdown",
   "id": "hydraulic-dylan",
   "metadata": {},
   "source": [
    "<h1>problem 1<h1>"
   ]
  },
  {
   "cell_type": "code",
   "execution_count": 10,
   "id": "consistent-hayes",
   "metadata": {},
   "outputs": [
    {
     "name": "stdout",
     "output_type": "stream",
     "text": [
      "1008\n",
      "1080\n",
      "1152\n",
      "1224\n",
      "1296\n",
      "1368\n",
      "1440\n",
      "1512\n",
      "1584\n",
      "1656\n",
      "1728\n"
     ]
    }
   ],
   "source": [
    "ar=[]\n",
    "for i in range(1000,1800):\n",
    "    if(i%8==0) and (i%3==0) and (i%9==0):\n",
    "        print(i)"
   ]
  },
  {
   "cell_type": "markdown",
   "id": "chemical-coating",
   "metadata": {},
   "source": [
    "<h1>problem 2<h1>"
   ]
  },
  {
   "cell_type": "code",
   "execution_count": 12,
   "id": "valued-relay",
   "metadata": {},
   "outputs": [
    {
     "name": "stdout",
     "output_type": "stream",
     "text": [
      "IEEE HSTU SB\n"
     ]
    }
   ],
   "source": [
    "touple=('I','E','E','E','H','S','T','U','S','B')\n",
    "t1= touple[0:4]\n",
    "t1= ''.join(t1)\n",
    "\n",
    "t2= touple[4:8]\n",
    "t2= ''.join(t2)\n",
    "\n",
    "t3= touple[8:]\n",
    "t3= ''.join(t3)\n",
    "\n",
    "str = t1+' '+t2+' '+t3\n",
    "print(str)"
   ]
  },
  {
   "cell_type": "markdown",
   "id": "elegant-karaoke",
   "metadata": {},
   "source": [
    "<h1>problem 3<h1>"
   ]
  },
  {
   "cell_type": "code",
   "execution_count": 15,
   "id": "virtual-metabolism",
   "metadata": {},
   "outputs": [
    {
     "name": "stdout",
     "output_type": "stream",
     "text": [
      "The length of the side of the triangle :\n",
      "Enter a :3\n",
      "Enter b :4\n",
      "Enter c :5\n",
      "Scalene triangle\n"
     ]
    }
   ],
   "source": [
    "print(\"The length of the side of the triangle :\")\n",
    "a=int(input(\"Enter a :\"))\n",
    "b=int(input(\"Enter b :\"))\n",
    "c=int(input(\"Enter c :\"))\n",
    "if(a==b==c):\n",
    "    print(\"Equilateral triangle\")\n",
    "elif(a==b or b==c or c==a):\n",
    "    print(\"Isosceles triangle\")\n",
    "else:\n",
    "    print(\"Scalene triangle\")"
   ]
  },
  {
   "cell_type": "markdown",
   "id": "charming-friend",
   "metadata": {},
   "source": [
    "<h1>problem 4<h1>"
   ]
  },
  {
   "cell_type": "code",
   "execution_count": 16,
   "id": "everyday-nothing",
   "metadata": {},
   "outputs": [
    {
     "name": "stdout",
     "output_type": "stream",
     "text": [
      "Enter a Number :5\n",
      "5 X 1 = 5\n",
      "5 X 2 = 10\n",
      "5 X 3 = 15\n",
      "5 X 4 = 20\n",
      "5 X 5 = 25\n",
      "5 X 6 = 30\n",
      "5 X 7 = 35\n",
      "5 X 8 = 40\n",
      "5 X 9 = 45\n",
      "5 X 10 = 50\n"
     ]
    }
   ],
   "source": [
    "x=int(input(\"Enter a Number :\"))\n",
    "for i in range(1,11):\n",
    "    print(x,'X',i,'=',x*i)"
   ]
  },
  {
   "cell_type": "markdown",
   "id": "popular-error",
   "metadata": {},
   "source": [
    "<h1>problem 5<h1>"
   ]
  },
  {
   "cell_type": "code",
   "execution_count": 19,
   "id": "ordinary-ownership",
   "metadata": {},
   "outputs": [
    {
     "name": "stdout",
     "output_type": "stream",
     "text": [
      "Enter a year :2027\n",
      "Not Leap Year\n"
     ]
    }
   ],
   "source": [
    "y=int(input(\"Enter a year :\"))\n",
    "if(y%400==0):\n",
    "    print(\"Leap Year\")\n",
    "elif(y%4==0 and y%100!=0):\n",
    "    print(\"Leap Year\")\n",
    "else:\n",
    "    print(\"Not Leap Year\")"
   ]
  },
  {
   "cell_type": "markdown",
   "id": "built-finder",
   "metadata": {},
   "source": [
    "<h1>problem 6(a): Area of a triangle<h1>"
   ]
  },
  {
   "cell_type": "code",
   "execution_count": 26,
   "id": "relative-analysis",
   "metadata": {},
   "outputs": [
    {
     "name": "stdout",
     "output_type": "stream",
     "text": [
      "Enter Base :5.0\n",
      "Enter Height :6.5\n",
      "Area of a triangle is : 16.25\n"
     ]
    }
   ],
   "source": [
    "b=float(input(\"Enter Base :\"))\n",
    "h=float(input(\"Enter Height :\"))\n",
    "area=0.5*b*h\n",
    "print(\"Area of a triangle is : %.2f\" %area)"
   ]
  },
  {
   "cell_type": "markdown",
   "id": "stuck-liberty",
   "metadata": {},
   "source": [
    "<h1>problem 6(b):Area of a rectangle<h1>"
   ]
  },
  {
   "cell_type": "code",
   "execution_count": 27,
   "id": "driving-premium",
   "metadata": {},
   "outputs": [
    {
     "name": "stdout",
     "output_type": "stream",
     "text": [
      "Enter length :20\n",
      "Enter width :27\n",
      "Area of a rectangle is : 540.00\n"
     ]
    }
   ],
   "source": [
    "l=float(input(\"Enter length :\"))\n",
    "w=float(input(\"Enter width :\"))\n",
    "area=l*w\n",
    "print(\"Area of a rectangle is : %.2f\" %area)"
   ]
  },
  {
   "cell_type": "markdown",
   "id": "bottom-lawyer",
   "metadata": {},
   "source": [
    "<h1>problem 6(c):Area of a circle<h1>"
   ]
  },
  {
   "cell_type": "code",
   "execution_count": 28,
   "id": "protective-artist",
   "metadata": {},
   "outputs": [
    {
     "name": "stdout",
     "output_type": "stream",
     "text": [
      "Enter radius :3\n",
      "Area of a circle is : 28.27\n"
     ]
    }
   ],
   "source": [
    "r=float(input(\"Enter radius :\"))\n",
    "pi=3.1416\n",
    "area=pi*r*r\n",
    "print(\"Area of a circle is : %.2f\" %area)\n"
   ]
  },
  {
   "cell_type": "code",
   "execution_count": null,
   "id": "suspended-batman",
   "metadata": {},
   "outputs": [],
   "source": []
  }
 ],
 "metadata": {
  "kernelspec": {
   "display_name": "Python 3",
   "language": "python",
   "name": "python3"
  },
  "language_info": {
   "codemirror_mode": {
    "name": "ipython",
    "version": 3
   },
   "file_extension": ".py",
   "mimetype": "text/x-python",
   "name": "python",
   "nbconvert_exporter": "python",
   "pygments_lexer": "ipython3",
   "version": "3.9.2"
  }
 },
 "nbformat": 4,
 "nbformat_minor": 5
}
